{
 "cells": [
  {
   "cell_type": "code",
   "execution_count": null,
   "metadata": {},
   "outputs": [],
   "source": [
    "import numpy as np\n",
    "import pandas as pd"
   ]
  },
  {
   "cell_type": "code",
   "execution_count": null,
   "metadata": {},
   "outputs": [],
   "source": [
    "# pseudo code\n",
    "\n",
    "best_cpx = None\n",
    "selectors = []\n",
    "\n",
    "def cn2(E):\n",
    "    rule_list = []\n",
    "    while (best_cpx != None | len(E)!=0):\n",
    "        best_cpx = find_best_complex(E)\n",
    "        if (best_cpx != None):\n",
    "            e_not = get_covered_examples()\n",
    "            \n",
    "    return rule_list\n",
    "\n",
    "def find_best_complex(E):\n",
    "    star = []\n",
    "    best_cpx = None\n",
    "    while (len(star) != 0):\n",
    "        for complex in star:\n",
    "            continue\n",
    "\n",
    "    return best_cpx \n",
    "\n",
    "\n",
    "def get_covered_examples():\n",
    "    return"
   ]
  }
 ],
 "metadata": {
  "kernelspec": {
   "display_name": ".venv",
   "language": "python",
   "name": "python3"
  },
  "language_info": {
   "codemirror_mode": {
    "name": "ipython",
    "version": 3
   },
   "file_extension": ".py",
   "mimetype": "text/x-python",
   "name": "python",
   "nbconvert_exporter": "python",
   "pygments_lexer": "ipython3",
   "version": "3.11.0"
  }
 },
 "nbformat": 4,
 "nbformat_minor": 2
}
